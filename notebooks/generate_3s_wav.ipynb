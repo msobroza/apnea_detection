{
 "cells": [
  {
   "cell_type": "code",
   "execution_count": 9,
   "metadata": {},
   "outputs": [],
   "source": [
    "from librosa import load\n",
    "from scipy.io.wavfile import write\n",
    "import glob, os"
   ]
  },
  {
   "cell_type": "code",
   "execution_count": 2,
   "metadata": {},
   "outputs": [],
   "source": [
    "step = 48000 # 3s"
   ]
  },
  {
   "cell_type": "code",
   "execution_count": 3,
   "metadata": {},
   "outputs": [],
   "source": [
    "# Original audio paths\n",
    "snore_path = '../data/audio/snore_audio/'\n",
    "bg_path    = '../data/audio/bg_audio/'\n",
    "\n",
    "# 3s audio paths\n",
    "snore_3s_path = '../data/audio/snore_3s/'\n",
    "bg_3s_path    = '../data/audio/bg_3s/'"
   ]
  },
  {
   "cell_type": "code",
   "execution_count": 4,
   "metadata": {},
   "outputs": [],
   "source": [
    "snores = glob.glob(snore_path + '*.wav')\n",
    "bgs    = glob.glob(bg_path + '*.wav')\n",
    "\n",
    "snores.sort()\n",
    "bgs.sort()"
   ]
  },
  {
   "cell_type": "code",
   "execution_count": 5,
   "metadata": {},
   "outputs": [],
   "source": [
    "for i, bg in enumerate(bgs):\n",
    "    audio, _ = load(bg, sr=16000)\n",
    "    cnt      = 0\n",
    "    \n",
    "    while round(((cnt/6)+1)*step) < audio.shape[0]:\n",
    "        write(bg_3s_path + 'bg_{:03d}_{}-{}.wav'.format(i, round((cnt/6)*step), round(((cnt/6)+1)*step)),\n",
    "                                                        16000, audio[round((cnt/6)*step):round(((cnt/6)+1)*step)])\n",
    "        \n",
    "        cnt += 1"
   ]
  }
 ],
 "metadata": {
  "kernelspec": {
   "display_name": "Python (keras_apnea)",
   "language": "python",
   "name": "keras_apnea"
  },
  "language_info": {
   "codemirror_mode": {
    "name": "ipython",
    "version": 3
   },
   "file_extension": ".py",
   "mimetype": "text/x-python",
   "name": "python",
   "nbconvert_exporter": "python",
   "pygments_lexer": "ipython3",
   "version": "3.7.4"
  }
 },
 "nbformat": 4,
 "nbformat_minor": 2
}
