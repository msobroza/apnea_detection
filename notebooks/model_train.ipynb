{
 "cells": [
  {
   "cell_type": "markdown",
   "metadata": {},
   "source": [
    "# IMPORT MODULES"
   ]
  },
  {
   "cell_type": "code",
   "execution_count": null,
   "metadata": {},
   "outputs": [],
   "source": [
    "import sys\n",
    "\n",
    "sys.path.append('..')"
   ]
  },
  {
   "cell_type": "code",
   "execution_count": null,
   "metadata": {},
   "outputs": [],
   "source": [
    "from modules.model import DLMA, SBC\n",
    "from modules.dataset import DataGenerator\n",
    "import numpy as np\n",
    "import glob"
   ]
  },
  {
   "cell_type": "code",
   "execution_count": null,
   "metadata": {},
   "outputs": [],
   "source": [
    "from keras.optimizers import Adam"
   ]
  },
  {
   "cell_type": "markdown",
   "metadata": {},
   "source": [
    "# IMPORT MODEL"
   ]
  },
  {
   "cell_type": "code",
   "execution_count": null,
   "metadata": {},
   "outputs": [],
   "source": [
    "model = SBC(time_steps=3)\n",
    "optm  = Adam(lr=0.1)\n",
    "model.compile(optimizer=optm, loss='categorical_crossentropy', metrics=['accuracy'])"
   ]
  },
  {
   "cell_type": "markdown",
   "metadata": {},
   "source": [
    "# IMPORT DATASET"
   ]
  },
  {
   "cell_type": "code",
   "execution_count": null,
   "metadata": {},
   "outputs": [],
   "source": [
    "train_path = '../data/arrays/train/'\n",
    "dev_path   = '../data/arrays/dev/'\n",
    "test_path  = '../data/arrays/test/'\n",
    "\n",
    "partition  = dict()"
   ]
  },
  {
   "cell_type": "code",
   "execution_count": null,
   "metadata": {},
   "outputs": [],
   "source": [
    "train_db = glob.glob(train_path + '*.npy')\n",
    "dev_db   = glob.glob(dev_path + '*.npy')\n",
    "test_db  = glob.glob(test_path + '*.npy')"
   ]
  },
  {
   "cell_type": "code",
   "execution_count": null,
   "metadata": {},
   "outputs": [],
   "source": [
    "# Take only the file name, not the full path\n",
    "partition['train'] = [train_db[i].split('/')[-1] for i in range(len(train_db))]\n",
    "partition['dev']   = [dev_db[i].split('/')[-1] for i in range(len(dev_db))]\n",
    "partition['test']  = [test_db[i].split('/')[-1] for i in range(len(test_db))]"
   ]
  },
  {
   "cell_type": "code",
   "execution_count": null,
   "metadata": {},
   "outputs": [],
   "source": [
    "train_generator = DataGenerator(\n",
    "    partition['train'],\n",
    "    db_part='train',\n",
    "    dim=(3, 128),\n",
    "    batch_size=32,\n",
    "    n_classes=2,\n",
    "    shuffle=True\n",
    ")\n",
    "\n",
    "dev_generator   = DataGenerator(\n",
    "    partition['dev'],\n",
    "    db_part='dev',\n",
    "    dim=(3, 128),\n",
    "    batch_size=32,\n",
    "    n_classes=2,\n",
    "    shuffle=True\n",
    ")\n",
    "\n",
    "test_generator  = DataGenerator(\n",
    "    partition['test'],\n",
    "    db_part='test',\n",
    "    dim=(3, 128),\n",
    "    batch_size=32,\n",
    "    n_classes=2,\n",
    "    shuffle=True\n",
    ")"
   ]
  },
  {
   "cell_type": "markdown",
   "metadata": {},
   "source": [
    "# TRAIN"
   ]
  },
  {
   "cell_type": "code",
   "execution_count": null,
   "metadata": {
    "scrolled": false
   },
   "outputs": [],
   "source": [
    "model.fit_generator(\n",
    "    generator=train_generator,\n",
    "    validation_data=dev_generator,\n",
    "    workers=8,\n",
    "    epochs=30\n",
    ")"
   ]
  },
  {
   "cell_type": "code",
   "execution_count": null,
   "metadata": {},
   "outputs": [],
   "source": [
    "model.save_weights('weights_100_epochs.h5')"
   ]
  },
  {
   "cell_type": "markdown",
   "metadata": {},
   "source": [
    "# TEST MODEL"
   ]
  },
  {
   "cell_type": "code",
   "execution_count": null,
   "metadata": {},
   "outputs": [],
   "source": [
    "model.load_weights('weights_100_epochs.h5')"
   ]
  },
  {
   "cell_type": "code",
   "execution_count": null,
   "metadata": {},
   "outputs": [],
   "source": [
    "model.evaluate_generator(generator=test_generator, verbose=1)"
   ]
  },
  {
   "cell_type": "code",
   "execution_count": null,
   "metadata": {},
   "outputs": [],
   "source": [
    "pred = model.predict_generator(test_generator, verbose=1)\n",
    "pred = np.argmax(pred, axis=1)"
   ]
  }
 ],
 "metadata": {
  "kernelspec": {
   "display_name": "Python (keras_apnea)",
   "language": "python",
   "name": "keras_apnea"
  },
  "language_info": {
   "codemirror_mode": {
    "name": "ipython",
    "version": 3
   },
   "file_extension": ".py",
   "mimetype": "text/x-python",
   "name": "python",
   "nbconvert_exporter": "python",
   "pygments_lexer": "ipython3",
   "version": "3.7.4"
  }
 },
 "nbformat": 4,
 "nbformat_minor": 2
}
