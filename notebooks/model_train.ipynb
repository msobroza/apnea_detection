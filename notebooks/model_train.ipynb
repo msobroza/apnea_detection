{
 "cells": [
  {
   "cell_type": "markdown",
   "metadata": {},
   "source": [
    "# IMPORT MODULES"
   ]
  },
  {
   "cell_type": "code",
   "execution_count": 1,
   "metadata": {},
   "outputs": [],
   "source": [
    "import sys\n",
    "\n",
    "sys.path.append('..')"
   ]
  },
  {
   "cell_type": "code",
   "execution_count": 2,
   "metadata": {},
   "outputs": [
    {
     "name": "stderr",
     "output_type": "stream",
     "text": [
      "Using TensorFlow backend.\n"
     ]
    }
   ],
   "source": [
    "from modules.model import DLMA\n",
    "from modules.dataset import DataGenerator\n",
    "import numpy as np\n",
    "import glob"
   ]
  },
  {
   "cell_type": "markdown",
   "metadata": {},
   "source": [
    "# IMPORT MODEL"
   ]
  },
  {
   "cell_type": "code",
   "execution_count": 3,
   "metadata": {},
   "outputs": [
    {
     "name": "stderr",
     "output_type": "stream",
     "text": [
      "WARNING: Logging before flag parsing goes to stderr.\n",
      "W0819 11:46:41.815756 140608137897792 deprecation_wrapper.py:119] From /home/grodri/anaconda3/envs/keras_apnea/lib/python3.7/site-packages/keras/backend/tensorflow_backend.py:74: The name tf.get_default_graph is deprecated. Please use tf.compat.v1.get_default_graph instead.\n",
      "\n",
      "W0819 11:46:41.831229 140608137897792 deprecation_wrapper.py:119] From /home/grodri/anaconda3/envs/keras_apnea/lib/python3.7/site-packages/keras/backend/tensorflow_backend.py:517: The name tf.placeholder is deprecated. Please use tf.compat.v1.placeholder instead.\n",
      "\n",
      "W0819 11:46:41.833716 140608137897792 deprecation_wrapper.py:119] From /home/grodri/anaconda3/envs/keras_apnea/lib/python3.7/site-packages/keras/backend/tensorflow_backend.py:4138: The name tf.random_uniform is deprecated. Please use tf.random.uniform instead.\n",
      "\n",
      "W0819 11:46:41.889010 140608137897792 deprecation_wrapper.py:119] From /home/grodri/anaconda3/envs/keras_apnea/lib/python3.7/site-packages/keras/backend/tensorflow_backend.py:133: The name tf.placeholder_with_default is deprecated. Please use tf.compat.v1.placeholder_with_default instead.\n",
      "\n",
      "W0819 11:46:41.901698 140608137897792 deprecation.py:506] From /home/grodri/anaconda3/envs/keras_apnea/lib/python3.7/site-packages/keras/backend/tensorflow_backend.py:3445: calling dropout (from tensorflow.python.ops.nn_ops) with keep_prob is deprecated and will be removed in a future version.\n",
      "Instructions for updating:\n",
      "Please use `rate` instead of `keep_prob`. Rate should be set to `rate = 1 - keep_prob`.\n",
      "W0819 11:46:42.175461 140608137897792 deprecation_wrapper.py:119] From /home/grodri/anaconda3/envs/keras_apnea/lib/python3.7/site-packages/keras/optimizers.py:790: The name tf.train.Optimizer is deprecated. Please use tf.compat.v1.train.Optimizer instead.\n",
      "\n",
      "W0819 11:46:42.187991 140608137897792 deprecation_wrapper.py:119] From /home/grodri/anaconda3/envs/keras_apnea/lib/python3.7/site-packages/keras/backend/tensorflow_backend.py:1521: The name tf.log is deprecated. Please use tf.math.log instead.\n",
      "\n"
     ]
    },
    {
     "name": "stdout",
     "output_type": "stream",
     "text": [
      "__________________________________________________________________________________________________\n",
      "Layer (type)                    Output Shape         Param #     Connected to                     \n",
      "==================================================================================================\n",
      "input_1 (InputLayer)            (None, 3, 128)       0                                            \n",
      "__________________________________________________________________________________________________\n",
      "dense_1 (Dense)                 (None, 3, 1024)      132096      input_1[0][0]                    \n",
      "__________________________________________________________________________________________________\n",
      "batch_normalization_1 (BatchNor (None, 3, 1024)      4096        dense_1[0][0]                    \n",
      "__________________________________________________________________________________________________\n",
      "activation_1 (Activation)       (None, 3, 1024)      0           batch_normalization_1[0][0]      \n",
      "__________________________________________________________________________________________________\n",
      "dropout_1 (Dropout)             (None, 3, 1024)      0           activation_1[0][0]               \n",
      "__________________________________________________________________________________________________\n",
      "dense_2 (Dense)                 (None, 3, 1024)      1049600     dropout_1[0][0]                  \n",
      "__________________________________________________________________________________________________\n",
      "batch_normalization_2 (BatchNor (None, 3, 1024)      4096        dense_2[0][0]                    \n",
      "__________________________________________________________________________________________________\n",
      "activation_2 (Activation)       (None, 3, 1024)      0           batch_normalization_2[0][0]      \n",
      "__________________________________________________________________________________________________\n",
      "dropout_2 (Dropout)             (None, 3, 1024)      0           activation_2[0][0]               \n",
      "__________________________________________________________________________________________________\n",
      "dense_3 (Dense)                 (None, 3, 1024)      1049600     dropout_2[0][0]                  \n",
      "__________________________________________________________________________________________________\n",
      "batch_normalization_3 (BatchNor (None, 3, 1024)      4096        dense_3[0][0]                    \n",
      "__________________________________________________________________________________________________\n",
      "activation_3 (Activation)       (None, 3, 1024)      0           batch_normalization_3[0][0]      \n",
      "__________________________________________________________________________________________________\n",
      "dropout_3 (Dropout)             (None, 3, 1024)      0           activation_3[0][0]               \n",
      "__________________________________________________________________________________________________\n",
      "dense_4 (Dense)                 (None, 3, 2)         2050        dropout_2[0][0]                  \n",
      "__________________________________________________________________________________________________\n",
      "dense_5 (Dense)                 (None, 3, 2)         2050        dropout_2[0][0]                  \n",
      "__________________________________________________________________________________________________\n",
      "dense_6 (Dense)                 (None, 3, 2)         2050        dropout_3[0][0]                  \n",
      "__________________________________________________________________________________________________\n",
      "dense_7 (Dense)                 (None, 3, 2)         2050        dropout_3[0][0]                  \n",
      "__________________________________________________________________________________________________\n",
      "lambda_1 (Lambda)               (None, 2)            0           dense_4[0][0]                    \n",
      "                                                                 dense_5[0][0]                    \n",
      "__________________________________________________________________________________________________\n",
      "lambda_2 (Lambda)               (None, 2)            0           dense_6[0][0]                    \n",
      "                                                                 dense_7[0][0]                    \n",
      "__________________________________________________________________________________________________\n",
      "concatenate_1 (Concatenate)     (None, 4)            0           lambda_1[0][0]                   \n",
      "                                                                 lambda_2[0][0]                   \n",
      "__________________________________________________________________________________________________\n",
      "dense_8 (Dense)                 (None, 2)            10          concatenate_1[0][0]              \n",
      "__________________________________________________________________________________________________\n",
      "activation_4 (Activation)       (None, 2)            0           dense_8[0][0]                    \n",
      "==================================================================================================\n",
      "Total params: 2,251,794\n",
      "Trainable params: 2,245,650\n",
      "Non-trainable params: 6,144\n",
      "__________________________________________________________________________________________________\n"
     ]
    }
   ],
   "source": [
    "model = DLMA(time_steps=3, classes_num=2)\n",
    "model.compile(optimizer='rmsprop', loss='kullback_leibler_divergence', metrics=['accuracy'])"
   ]
  },
  {
   "cell_type": "markdown",
   "metadata": {},
   "source": [
    "# IMPORT DATASET"
   ]
  },
  {
   "cell_type": "code",
   "execution_count": 4,
   "metadata": {},
   "outputs": [],
   "source": [
    "train_path = '../data/arrays/train/'\n",
    "dev_path   = '../data/arrays/dev/'\n",
    "test_path  = '../data/arrays/test/'\n",
    "\n",
    "partition  = dict()"
   ]
  },
  {
   "cell_type": "code",
   "execution_count": 5,
   "metadata": {},
   "outputs": [],
   "source": [
    "train_db = glob.glob(train_path + '*.npy')\n",
    "dev_db   = glob.glob(dev_path + '*.npy')\n",
    "test_db  = glob.glob(test_path + '*.npy')"
   ]
  },
  {
   "cell_type": "code",
   "execution_count": 6,
   "metadata": {},
   "outputs": [],
   "source": [
    "# Take only the file name, not the full path\n",
    "partition['train'] = [train_db[i].split('/')[-1] for i in range(len(train_db))]\n",
    "partition['dev']   = [dev_db[i].split('/')[-1] for i in range(len(dev_db))]\n",
    "partition['test']  = [test_db[i].split('/')[-1] for i in range(len(test_db))]"
   ]
  },
  {
   "cell_type": "code",
   "execution_count": 7,
   "metadata": {},
   "outputs": [],
   "source": [
    "train_generator = DataGenerator(\n",
    "    partition['train'],\n",
    "    db_part='train',\n",
    "    dim=(3, 128),\n",
    "    batch_size=32,\n",
    "    n_classes=2,\n",
    "    shuffle=True\n",
    ")\n",
    "\n",
    "dev_generator   = DataGenerator(\n",
    "    partition['dev'],\n",
    "    db_part='dev',\n",
    "    dim=(3, 128),\n",
    "    batch_size=32,\n",
    "    n_classes=2,\n",
    "    shuffle=True\n",
    ")\n",
    "\n",
    "test_generator  = DataGenerator(\n",
    "    partition['test'],\n",
    "    db_part='test',\n",
    "    dim=(3, 128),\n",
    "    batch_size=32,\n",
    "    n_classes=2,\n",
    "    shuffle=True\n",
    ")"
   ]
  },
  {
   "cell_type": "markdown",
   "metadata": {},
   "source": [
    "# TRAIN"
   ]
  },
  {
   "cell_type": "code",
   "execution_count": 8,
   "metadata": {},
   "outputs": [
    {
     "name": "stderr",
     "output_type": "stream",
     "text": [
      "W0819 11:47:06.791498 140608137897792 deprecation.py:323] From /home/grodri/anaconda3/envs/keras_apnea/lib/python3.7/site-packages/tensorflow/python/ops/math_grad.py:1250: add_dispatch_support.<locals>.wrapper (from tensorflow.python.ops.array_ops) is deprecated and will be removed in a future version.\n",
      "Instructions for updating:\n",
      "Use tf.where in 2.0, which has the same broadcast rule as np.where\n"
     ]
    },
    {
     "name": "stdout",
     "output_type": "stream",
     "text": [
      "Epoch 1/100\n",
      "528/528 [==============================] - 26s 49ms/step - loss: 0.6519 - acc: 0.5697 - val_loss: 1.8140 - val_acc: 0.4996\n",
      "Epoch 2/100\n",
      "528/528 [==============================] - 24s 45ms/step - loss: 0.6370 - acc: 0.5846 - val_loss: 1.2446 - val_acc: 0.4996\n",
      "Epoch 3/100\n",
      "528/528 [==============================] - 22s 43ms/step - loss: 0.6325 - acc: 0.5888 - val_loss: 2.6718 - val_acc: 0.5004\n",
      "Epoch 4/100\n",
      "528/528 [==============================] - 22s 42ms/step - loss: 0.6296 - acc: 0.5910 - val_loss: 3.1908 - val_acc: 0.5004\n",
      "Epoch 5/100\n",
      "528/528 [==============================] - 22s 43ms/step - loss: 0.6281 - acc: 0.5915 - val_loss: 1.0118 - val_acc: 0.5004\n",
      "Epoch 6/100\n",
      "528/528 [==============================] - 23s 43ms/step - loss: 0.6270 - acc: 0.5950 - val_loss: 1.1044 - val_acc: 0.5000\n",
      "Epoch 7/100\n",
      "528/528 [==============================] - 23s 43ms/step - loss: 0.6254 - acc: 0.5967 - val_loss: 3.6788 - val_acc: 0.5000\n",
      "Epoch 8/100\n",
      "528/528 [==============================] - 23s 43ms/step - loss: 0.6233 - acc: 0.5974 - val_loss: 0.6457 - val_acc: 0.5791\n",
      "Epoch 9/100\n",
      "528/528 [==============================] - 23s 43ms/step - loss: 0.6230 - acc: 0.6007 - val_loss: 1.1238 - val_acc: 0.5004\n",
      "Epoch 10/100\n",
      "528/528 [==============================] - 22s 42ms/step - loss: 0.6236 - acc: 0.5978 - val_loss: 1.1631 - val_acc: 0.5000\n",
      "Epoch 11/100\n",
      "528/528 [==============================] - 22s 43ms/step - loss: 0.6219 - acc: 0.5981 - val_loss: 1.4943 - val_acc: 0.5004\n",
      "Epoch 12/100\n",
      "528/528 [==============================] - 22s 42ms/step - loss: 0.6229 - acc: 0.5991 - val_loss: 1.5179 - val_acc: 0.4996\n",
      "Epoch 13/100\n",
      "528/528 [==============================] - 23s 43ms/step - loss: 0.6221 - acc: 0.5996 - val_loss: 1.5850 - val_acc: 0.5000\n",
      "Epoch 14/100\n",
      "528/528 [==============================] - 23s 43ms/step - loss: 0.6213 - acc: 0.5997 - val_loss: 1.6679 - val_acc: 0.5012\n",
      "Epoch 15/100\n",
      "528/528 [==============================] - 23s 43ms/step - loss: 0.6210 - acc: 0.6020 - val_loss: 1.7162 - val_acc: 0.4996\n",
      "Epoch 16/100\n",
      "528/528 [==============================] - 23s 43ms/step - loss: 0.6203 - acc: 0.6016 - val_loss: 1.8995 - val_acc: 0.5000\n",
      "Epoch 17/100\n",
      "528/528 [==============================] - 23s 43ms/step - loss: 0.6219 - acc: 0.6009 - val_loss: 1.9414 - val_acc: 0.5000\n",
      "Epoch 18/100\n",
      "528/528 [==============================] - 22s 43ms/step - loss: 0.6212 - acc: 0.6004 - val_loss: 1.9377 - val_acc: 0.5000\n",
      "Epoch 19/100\n",
      "528/528 [==============================] - 23s 43ms/step - loss: 0.6202 - acc: 0.6014 - val_loss: 1.9960 - val_acc: 0.5004\n",
      "Epoch 20/100\n",
      "528/528 [==============================] - 22s 42ms/step - loss: 0.6205 - acc: 0.6014 - val_loss: 2.0628 - val_acc: 0.5004\n",
      "Epoch 21/100\n",
      "528/528 [==============================] - 23s 43ms/step - loss: 0.6220 - acc: 0.6016 - val_loss: 0.6579 - val_acc: 0.5554\n",
      "Epoch 22/100\n",
      "528/528 [==============================] - 23s 44ms/step - loss: 0.6232 - acc: 0.6019 - val_loss: 2.0084 - val_acc: 0.5004\n",
      "Epoch 23/100\n",
      "528/528 [==============================] - 24s 45ms/step - loss: 0.6202 - acc: 0.6022 - val_loss: 2.0203 - val_acc: 0.4988\n",
      "Epoch 24/100\n",
      "528/528 [==============================] - 24s 45ms/step - loss: 0.6215 - acc: 0.6019 - val_loss: 2.1031 - val_acc: 0.5012\n",
      "Epoch 25/100\n",
      "528/528 [==============================] - 24s 45ms/step - loss: 0.6221 - acc: 0.6033 - val_loss: 2.0464 - val_acc: 0.5012\n",
      "Epoch 26/100\n",
      "528/528 [==============================] - 24s 45ms/step - loss: 0.6199 - acc: 0.6013 - val_loss: 2.1280 - val_acc: 0.5004\n",
      "Epoch 27/100\n",
      "528/528 [==============================] - 24s 45ms/step - loss: 0.6224 - acc: 0.6010 - val_loss: 2.1503 - val_acc: 0.4996\n",
      "Epoch 28/100\n",
      "528/528 [==============================] - 24s 45ms/step - loss: 0.6200 - acc: 0.6019 - val_loss: 2.1695 - val_acc: 0.5004\n",
      "Epoch 29/100\n",
      "528/528 [==============================] - 24s 45ms/step - loss: 0.6200 - acc: 0.6027 - val_loss: 2.2251 - val_acc: 0.5000\n",
      "Epoch 30/100\n",
      "528/528 [==============================] - 24s 45ms/step - loss: 0.6209 - acc: 0.6039 - val_loss: 2.2556 - val_acc: 0.4996\n",
      "Epoch 31/100\n",
      "528/528 [==============================] - 24s 45ms/step - loss: 0.6209 - acc: 0.6018 - val_loss: 2.2632 - val_acc: 0.5004\n",
      "Epoch 32/100\n",
      "528/528 [==============================] - 24s 45ms/step - loss: 0.6210 - acc: 0.6021 - val_loss: 2.3177 - val_acc: 0.4988\n",
      "Epoch 33/100\n",
      "528/528 [==============================] - 24s 45ms/step - loss: 0.6202 - acc: 0.6035 - val_loss: 2.3359 - val_acc: 0.5000\n",
      "Epoch 34/100\n",
      "528/528 [==============================] - 24s 45ms/step - loss: 0.6198 - acc: 0.6040 - val_loss: 2.3609 - val_acc: 0.5000\n",
      "Epoch 35/100\n",
      "528/528 [==============================] - 24s 45ms/step - loss: 0.6184 - acc: 0.6028 - val_loss: 2.4293 - val_acc: 0.5004\n",
      "Epoch 36/100\n",
      "528/528 [==============================] - 24s 45ms/step - loss: 0.6201 - acc: 0.6020 - val_loss: 2.4514 - val_acc: 0.5000\n",
      "Epoch 37/100\n",
      "528/528 [==============================] - 24s 45ms/step - loss: 0.6190 - acc: 0.6040 - val_loss: 2.4794 - val_acc: 0.5012\n",
      "Epoch 38/100\n",
      "528/528 [==============================] - 24s 45ms/step - loss: 0.6188 - acc: 0.6038 - val_loss: 2.4613 - val_acc: 0.5008\n",
      "Epoch 39/100\n",
      "528/528 [==============================] - 24s 45ms/step - loss: 0.6192 - acc: 0.6026 - val_loss: 2.5341 - val_acc: 0.5004\n",
      "Epoch 40/100\n",
      "528/528 [==============================] - 24s 45ms/step - loss: 0.6198 - acc: 0.6016 - val_loss: 0.6340 - val_acc: 0.5839\n",
      "Epoch 41/100\n",
      "528/528 [==============================] - 24s 45ms/step - loss: 0.6195 - acc: 0.6040 - val_loss: 0.6535 - val_acc: 0.5605\n",
      "Epoch 42/100\n",
      "528/528 [==============================] - 24s 45ms/step - loss: 0.6188 - acc: 0.6046 - val_loss: 2.5687 - val_acc: 0.5000\n",
      "Epoch 43/100\n",
      "528/528 [==============================] - 24s 45ms/step - loss: 0.6217 - acc: 0.6039 - val_loss: 2.5347 - val_acc: 0.4980\n",
      "Epoch 44/100\n",
      "528/528 [==============================] - 24s 45ms/step - loss: 0.6191 - acc: 0.6042 - val_loss: 0.6466 - val_acc: 0.5665\n",
      "Epoch 45/100\n",
      "528/528 [==============================] - 24s 45ms/step - loss: 0.6195 - acc: 0.6022 - val_loss: 2.5780 - val_acc: 0.4996\n",
      "Epoch 46/100\n",
      "528/528 [==============================] - 24s 45ms/step - loss: 0.6213 - acc: 0.6039 - val_loss: 2.5639 - val_acc: 0.5000\n",
      "Epoch 47/100\n",
      "528/528 [==============================] - 24s 45ms/step - loss: 0.6194 - acc: 0.6043 - val_loss: 2.6053 - val_acc: 0.5000\n",
      "Epoch 48/100\n",
      "528/528 [==============================] - 24s 45ms/step - loss: 0.6195 - acc: 0.6017 - val_loss: 2.6654 - val_acc: 0.4988\n",
      "Epoch 49/100\n",
      "528/528 [==============================] - 24s 45ms/step - loss: 0.6202 - acc: 0.6031 - val_loss: 2.7150 - val_acc: 0.4984\n",
      "Epoch 50/100\n",
      "528/528 [==============================] - 24s 45ms/step - loss: 0.6193 - acc: 0.6048 - val_loss: 2.7352 - val_acc: 0.4992\n",
      "Epoch 51/100\n",
      "528/528 [==============================] - 24s 45ms/step - loss: 0.6218 - acc: 0.6030 - val_loss: 2.7228 - val_acc: 0.4988\n",
      "Epoch 52/100\n",
      "528/528 [==============================] - 24s 45ms/step - loss: 0.6204 - acc: 0.6030 - val_loss: 2.7609 - val_acc: 0.4996\n",
      "Epoch 53/100\n",
      "528/528 [==============================] - 24s 45ms/step - loss: 0.6198 - acc: 0.6008 - val_loss: 2.7731 - val_acc: 0.5000\n",
      "Epoch 54/100\n",
      "528/528 [==============================] - 24s 45ms/step - loss: 0.6192 - acc: 0.6037 - val_loss: 2.7859 - val_acc: 0.5012\n",
      "Epoch 55/100\n",
      "528/528 [==============================] - 24s 45ms/step - loss: 0.6194 - acc: 0.6060 - val_loss: 2.7796 - val_acc: 0.4996\n",
      "Epoch 56/100\n",
      "528/528 [==============================] - 24s 45ms/step - loss: 0.6214 - acc: 0.6032 - val_loss: 2.7567 - val_acc: 0.5000\n",
      "Epoch 57/100\n",
      "528/528 [==============================] - 24s 45ms/step - loss: 0.6217 - acc: 0.6033 - val_loss: 2.7266 - val_acc: 0.4996\n",
      "Epoch 58/100\n",
      "528/528 [==============================] - 24s 45ms/step - loss: 0.6186 - acc: 0.6056 - val_loss: 2.7394 - val_acc: 0.4996\n",
      "Epoch 59/100\n",
      "528/528 [==============================] - 24s 45ms/step - loss: 0.6212 - acc: 0.6025 - val_loss: 0.6496 - val_acc: 0.5633\n",
      "Epoch 60/100\n",
      "528/528 [==============================] - 24s 45ms/step - loss: 0.6197 - acc: 0.6021 - val_loss: 2.7411 - val_acc: 0.4996\n",
      "Epoch 61/100\n"
     ]
    },
    {
     "name": "stdout",
     "output_type": "stream",
     "text": [
      "528/528 [==============================] - 23s 44ms/step - loss: 0.6198 - acc: 0.6034 - val_loss: 2.7546 - val_acc: 0.4996\n",
      "Epoch 62/100\n",
      "528/528 [==============================] - 24s 45ms/step - loss: 0.6179 - acc: 0.6015 - val_loss: 2.8009 - val_acc: 0.5004\n",
      "Epoch 63/100\n",
      "528/528 [==============================] - 24s 45ms/step - loss: 0.6199 - acc: 0.6040 - val_loss: 2.7636 - val_acc: 0.4992\n",
      "Epoch 64/100\n",
      "528/528 [==============================] - 24s 45ms/step - loss: 0.6187 - acc: 0.6029 - val_loss: 2.7967 - val_acc: 0.5004\n",
      "Epoch 65/100\n",
      "528/528 [==============================] - 24s 45ms/step - loss: 0.6197 - acc: 0.6045 - val_loss: 2.8102 - val_acc: 0.5004\n",
      "Epoch 66/100\n",
      "528/528 [==============================] - 24s 45ms/step - loss: 0.6182 - acc: 0.6027 - val_loss: 2.8293 - val_acc: 0.4996\n",
      "Epoch 67/100\n",
      "528/528 [==============================] - 24s 45ms/step - loss: 0.6191 - acc: 0.6039 - val_loss: 2.8163 - val_acc: 0.4992\n",
      "Epoch 68/100\n",
      "528/528 [==============================] - 24s 45ms/step - loss: 0.6195 - acc: 0.6039 - val_loss: 2.8388 - val_acc: 0.4996\n",
      "Epoch 69/100\n",
      "528/528 [==============================] - 24s 45ms/step - loss: 0.6190 - acc: 0.6042 - val_loss: 2.8540 - val_acc: 0.5000\n",
      "Epoch 70/100\n",
      "528/528 [==============================] - 24s 45ms/step - loss: 0.6197 - acc: 0.6038 - val_loss: 2.8411 - val_acc: 0.4992\n",
      "Epoch 71/100\n",
      "528/528 [==============================] - 24s 45ms/step - loss: 0.6184 - acc: 0.6043 - val_loss: 2.8384 - val_acc: 0.4996\n",
      "Epoch 72/100\n",
      "528/528 [==============================] - 24s 45ms/step - loss: 0.6195 - acc: 0.6026 - val_loss: 2.3314 - val_acc: 0.5008\n",
      "Epoch 73/100\n",
      "528/528 [==============================] - 24s 45ms/step - loss: 0.6188 - acc: 0.6042 - val_loss: 2.8235 - val_acc: 0.5016\n",
      "Epoch 74/100\n",
      "528/528 [==============================] - 24s 45ms/step - loss: 0.6192 - acc: 0.6023 - val_loss: 2.8573 - val_acc: 0.4988\n",
      "Epoch 75/100\n",
      "528/528 [==============================] - 24s 45ms/step - loss: 0.6203 - acc: 0.6020 - val_loss: 2.8529 - val_acc: 0.4996\n",
      "Epoch 76/100\n",
      "528/528 [==============================] - 24s 45ms/step - loss: 0.6197 - acc: 0.6036 - val_loss: 0.6416 - val_acc: 0.5736\n",
      "Epoch 77/100\n",
      "528/528 [==============================] - 24s 45ms/step - loss: 0.6184 - acc: 0.6032 - val_loss: 2.8917 - val_acc: 0.4988\n",
      "Epoch 78/100\n",
      "528/528 [==============================] - 24s 45ms/step - loss: 0.6196 - acc: 0.6032 - val_loss: 2.8880 - val_acc: 0.4996\n",
      "Epoch 79/100\n",
      "528/528 [==============================] - 24s 45ms/step - loss: 0.6210 - acc: 0.6037 - val_loss: 2.8676 - val_acc: 0.4996\n",
      "Epoch 80/100\n",
      "528/528 [==============================] - 24s 45ms/step - loss: 0.6193 - acc: 0.6035 - val_loss: 2.8834 - val_acc: 0.4992\n",
      "Epoch 81/100\n",
      "528/528 [==============================] - 24s 45ms/step - loss: 0.6207 - acc: 0.6055 - val_loss: 2.8750 - val_acc: 0.5004\n",
      "Epoch 82/100\n",
      "528/528 [==============================] - 24s 45ms/step - loss: 0.6191 - acc: 0.6042 - val_loss: 2.9332 - val_acc: 0.5008\n",
      "Epoch 83/100\n",
      "528/528 [==============================] - 24s 45ms/step - loss: 0.6196 - acc: 0.6030 - val_loss: 2.9524 - val_acc: 0.5004\n",
      "Epoch 84/100\n",
      "528/528 [==============================] - 24s 45ms/step - loss: 0.6191 - acc: 0.6059 - val_loss: 2.9327 - val_acc: 0.4988\n",
      "Epoch 85/100\n",
      "528/528 [==============================] - 23s 44ms/step - loss: 0.6196 - acc: 0.6041 - val_loss: 0.6473 - val_acc: 0.5669\n",
      "Epoch 86/100\n",
      "528/528 [==============================] - 24s 45ms/step - loss: 0.6192 - acc: 0.6038 - val_loss: 1.5398 - val_acc: 0.4992\n",
      "Epoch 87/100\n",
      "528/528 [==============================] - 24s 45ms/step - loss: 0.6193 - acc: 0.6032 - val_loss: 2.9478 - val_acc: 0.4992\n",
      "Epoch 88/100\n",
      "528/528 [==============================] - 24s 45ms/step - loss: 0.6196 - acc: 0.6038 - val_loss: 2.9808 - val_acc: 0.4996\n",
      "Epoch 89/100\n",
      "528/528 [==============================] - 24s 45ms/step - loss: 0.6191 - acc: 0.6048 - val_loss: 2.9650 - val_acc: 0.5004\n",
      "Epoch 90/100\n",
      "528/528 [==============================] - 24s 45ms/step - loss: 0.6188 - acc: 0.6052 - val_loss: 2.9657 - val_acc: 0.5004\n",
      "Epoch 91/100\n",
      "528/528 [==============================] - 24s 45ms/step - loss: 0.6199 - acc: 0.6039 - val_loss: 2.9842 - val_acc: 0.4996\n",
      "Epoch 92/100\n",
      "528/528 [==============================] - 24s 45ms/step - loss: 0.6183 - acc: 0.6030 - val_loss: 2.9602 - val_acc: 0.4984\n",
      "Epoch 93/100\n",
      "528/528 [==============================] - 24s 45ms/step - loss: 0.6175 - acc: 0.6048 - val_loss: 2.9743 - val_acc: 0.4996\n",
      "Epoch 94/100\n",
      "528/528 [==============================] - 24s 45ms/step - loss: 0.6183 - acc: 0.6042 - val_loss: 2.9965 - val_acc: 0.4988\n",
      "Epoch 95/100\n",
      "528/528 [==============================] - 24s 45ms/step - loss: 0.6186 - acc: 0.6037 - val_loss: 3.0036 - val_acc: 0.5000\n",
      "Epoch 96/100\n",
      "528/528 [==============================] - 24s 45ms/step - loss: 0.6189 - acc: 0.6047 - val_loss: 3.0252 - val_acc: 0.4996\n",
      "Epoch 97/100\n",
      "528/528 [==============================] - 24s 45ms/step - loss: 0.6201 - acc: 0.6034 - val_loss: 0.6462 - val_acc: 0.5672\n",
      "Epoch 98/100\n",
      "528/528 [==============================] - 24s 45ms/step - loss: 0.6194 - acc: 0.6054 - val_loss: 0.6542 - val_acc: 0.5593\n",
      "Epoch 99/100\n",
      "528/528 [==============================] - 24s 45ms/step - loss: 0.6192 - acc: 0.6042 - val_loss: 0.6422 - val_acc: 0.5724\n",
      "Epoch 100/100\n",
      "528/528 [==============================] - 24s 45ms/step - loss: 0.6196 - acc: 0.6040 - val_loss: 0.6407 - val_acc: 0.5748\n"
     ]
    },
    {
     "data": {
      "text/plain": [
       "<keras.callbacks.History at 0x7fe19d0c0a90>"
      ]
     },
     "execution_count": 8,
     "metadata": {},
     "output_type": "execute_result"
    }
   ],
   "source": [
    "model.fit_generator(\n",
    "    generator=train_generator,\n",
    "    validation_data=dev_generator,\n",
    "    workers=8,\n",
    "    epochs=100\n",
    ")"
   ]
  },
  {
   "cell_type": "code",
   "execution_count": null,
   "metadata": {},
   "outputs": [],
   "source": [
    "model.save_weights('weights_100_epochs.h5')"
   ]
  },
  {
   "cell_type": "markdown",
   "metadata": {},
   "source": [
    "# TEST MODEL"
   ]
  },
  {
   "cell_type": "code",
   "execution_count": null,
   "metadata": {},
   "outputs": [],
   "source": [
    "model.load_weights('weights_100_epochs.h5')"
   ]
  },
  {
   "cell_type": "code",
   "execution_count": null,
   "metadata": {},
   "outputs": [],
   "source": [
    "model.evaluate_generator(generator=test_generator, verbose=1)"
   ]
  },
  {
   "cell_type": "code",
   "execution_count": null,
   "metadata": {},
   "outputs": [],
   "source": [
    "pred = model.predict_generator(test_generator, verbose=1)\n",
    "pred = np.argmax(pred, axis=1)"
   ]
  },
  {
   "cell_type": "code",
   "execution_count": null,
   "metadata": {},
   "outputs": [],
   "source": []
  }
 ],
 "metadata": {
  "kernelspec": {
   "display_name": "Python (keras_apnea)",
   "language": "python",
   "name": "keras_apnea"
  },
  "language_info": {
   "codemirror_mode": {
    "name": "ipython",
    "version": 3
   },
   "file_extension": ".py",
   "mimetype": "text/x-python",
   "name": "python",
   "nbconvert_exporter": "python",
   "pygments_lexer": "ipython3",
   "version": "3.7.4"
  }
 },
 "nbformat": 4,
 "nbformat_minor": 2
}
